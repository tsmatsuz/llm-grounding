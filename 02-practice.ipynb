{
 "cells": [
  {
   "cell_type": "markdown",
   "metadata": {
    "slideshow": {
     "slide_type": "slide"
    }
   },
   "source": [
    "# Step2 : 質問応答 (Question-Answering) の実行 (演習)\n",
    "\n",
    "ここでは、ユーザーからの質問に対し、Step 1 で作成したテキストとベクトル (Embedding) のデータ (```embeddings_data.csv```) の中から答えを探して回答する仕組みを構築していきましょう。\n",
    "\n",
    "> ただし、Step 1 を完了していない方は、リポジトリ内の ```embeddings_data_backup.csv``` の名前を ```embeddings_data.csv``` に変更してください。"
   ]
  },
  {
   "cell_type": "markdown",
   "metadata": {},
   "source": [
    "まず、準備として、OpenAI Python Library を Azure OpenAI Service に接続するための設定をおこないます。<br>\n",
    "(下記のセルを実行してください。)\n",
    "\n",
    "ただし、**下記の embedding_model と qa_model の値は、事前に皆さんの環境にあわせて変更してください。**"
   ]
  },
  {
   "cell_type": "code",
   "execution_count": null,
   "metadata": {},
   "outputs": [],
   "source": [
    "import os\n",
    "import openai\n",
    "\n",
    "openai.api_key = os.environ[\"OPENAI_API_KEY\"]\n",
    "openai.api_base =  os.environ[\"OPENAI_API_BASE\"]\n",
    "openai.api_type = os.environ[\"OPENAI_API_TYPE\"]\n",
    "openai.api_version = os.environ[\"OPENAI_API_VERSION\"]\n",
    "\n",
    "embedding_model = \"text-embedding-ada-002-deploy\"\n",
    "qa_model = \"gpt-35-turbo-deploy\""
   ]
  },
  {
   "cell_type": "markdown",
   "metadata": {
    "slideshow": {
     "slide_type": "slide"
    }
   },
   "source": [
    "Knowledge Base (```embeddings_data.csv```) から、全ドキュメントの Embedding 情報を読み込みます。<br>\n",
    "列として、```text``` (本文), ```n_tokens``` (トークン数), ```embeddings``` (ベクトルのリスト) が含まれていることを確認してください。<br>\n",
    "(下記のセルを実行してください。)"
   ]
  },
  {
   "cell_type": "code",
   "execution_count": null,
   "metadata": {},
   "outputs": [],
   "source": [
    "import pandas as pd\n",
    "import numpy as np\n",
    "\n",
    "df=pd.read_csv(\"embeddings_data.csv\", index_col=0)\n",
    "df[\"embeddings\"] = df[\"embeddings\"].apply(eval).apply(np.array)\n",
    "\n",
    "df.head()"
   ]
  },
  {
   "cell_type": "markdown",
   "metadata": {
    "slideshow": {
     "slide_type": "slide"
    }
   },
   "source": [
    "下記のヒントを参考にしながら、質問に渡すコンテキストとして、質問と近いテキストを 1800 トークンを超えない範囲で取得する処理を作成してください。\n",
    "\n",
    "ヒント\n",
    "- 質問を Embedding します (Embedding 方法は、Step 1 を参考にしてください)\n",
    "- ベクトルどうしの距離を測る関数はさまざま存在します。例えば、```openai.embeddings_utils.distances_from_embeddings``` が使用できます。(この関数の詳細は [こちら](https://github.com/openai/openai-python/blob/main/openai/embeddings_utils.py) を参照してください。)\n",
    "- 上述の通り、トークン数の情報は ```n_tokens``` 列に含まれています。"
   ]
  },
  {
   "cell_type": "code",
   "execution_count": null,
   "metadata": {
    "slideshow": {
     "slide_type": "slide"
    }
   },
   "outputs": [],
   "source": [
    "### ここに、処理を記述してください"
   ]
  },
  {
   "cell_type": "markdown",
   "metadata": {
    "slideshow": {
     "slide_type": "slide"
    }
   },
   "source": [
    "つぎに、上記で抽出した (1800 token を超えない) コンテキストを使って、下記のプロンプトを渡して completion を実行します。<br>\n",
    "返ってきた答えが、最終的な回答です。\n",
    "\n",
    "----------\n",
    "\n",
    "```\n",
    "以下のテキストを使って下記の質問に答えてください。もし答えがない場合には、「私は知らない」と答えてください。\n",
    "\n",
    "コンテキスト: {context}\n",
    "\n",
    "---\n",
    "\n",
    "質問: {question}\n",
    "答え:\n",
    "```"
   ]
  },
  {
   "cell_type": "code",
   "execution_count": null,
   "metadata": {
    "slideshow": {
     "slide_type": "slide"
    }
   },
   "outputs": [],
   "source": [
    "### ここに、処理を記述してください"
   ]
  },
  {
   "cell_type": "markdown",
   "metadata": {
    "slideshow": {
     "slide_type": "slide"
    }
   },
   "source": [
    "下記の質問で試してみてください。<br>\n",
    "これらの質問は、標準の ChatGPT (```gpt-35-turbo```) では答えられない内容です。\n",
    "\n",
    "1. 「木曽川に建設された発電所のうち、1924年(大正13年)に完成したダム式の発電所は?」 (答え : 大井発電所)\n",
    "2. 「1948年に、占領軍総司令部民間情報局が静岡に設立したのは?」 (答え : アメリカ文化センター)\n",
    "3. 「今日は何曜日?」 (答え : 私は知らない)"
   ]
  },
  {
   "cell_type": "code",
   "execution_count": null,
   "metadata": {
    "slideshow": {
     "slide_type": "slide"
    }
   },
   "outputs": [],
   "source": [
    "### ここに、処理を記述してください"
   ]
  },
  {
   "cell_type": "markdown",
   "metadata": {},
   "source": [
    "お疲れ様でした。<br>\n",
    "回答例は、[こちら](./03-answer.ipynb) を参照してください。"
   ]
  },
  {
   "cell_type": "code",
   "execution_count": null,
   "metadata": {},
   "outputs": [],
   "source": []
  }
 ],
 "metadata": {
  "celltoolbar": "Slideshow",
  "kernelspec": {
   "display_name": "Python 3 (ipykernel)",
   "language": "python",
   "name": "python3"
  },
  "language_info": {
   "codemirror_mode": {
    "name": "ipython",
    "version": 3
   },
   "file_extension": ".py",
   "mimetype": "text/x-python",
   "name": "python",
   "nbconvert_exporter": "python",
   "pygments_lexer": "ipython3",
   "version": "3.8.10"
  },
  "vscode": {
   "interpreter": {
    "hash": "05f34a34d73b71652304030c1097be3a5720ea2447153dd6542d145a26b73181"
   }
  }
 },
 "nbformat": 4,
 "nbformat_minor": 4
}
