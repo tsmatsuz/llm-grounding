{
 "cells": [
  {
   "cell_type": "markdown",
   "metadata": {
    "slideshow": {
     "slide_type": "slide"
    }
   },
   "source": [
    "# Step2 : 検索実行 (Question-Answering) - 回答例\n",
    "\n",
    "ここでは、ユーザーからの質問に対し、Step 1 で作成したテキストとベクトル (Embedding) のデータ (```embeddings_data.csv```) の中から答えを探して回答する仕組みを構築していきましょう。\n",
    "\n",
    "> ただし、Step 1 を完了していない方は、リポジトリ内の ```embeddings_data_backup.csv``` の名前を ```embeddings_data.csv``` に変更してください。"
   ]
  },
  {
   "cell_type": "markdown",
   "metadata": {},
   "source": [
    "まず、準備として、OpenAI Python Library を Azure OpenAI Service に接続するための設定をおこないます。\n",
    "\n",
    "ただし、**下記の embedding_model と qa_model の値は、事前に皆さんの環境にあわせて変更してください。**"
   ]
  },
  {
   "cell_type": "code",
   "execution_count": 1,
   "metadata": {
    "slideshow": {
     "slide_type": "slide"
    }
   },
   "outputs": [],
   "source": [
    "import os\n",
    "import openai\n",
    "\n",
    "openai.api_key = os.environ[\"OPENAI_API_KEY\"]\n",
    "openai.api_base =  os.environ[\"OPENAI_API_BASE\"]\n",
    "openai.api_type = os.environ[\"OPENAI_API_TYPE\"]\n",
    "openai.api_version = os.environ[\"OPENAI_API_VERSION\"]\n",
    "\n",
    "embedding_model = \"text-embedding-ada-002-deploy\"\n",
    "qa_model = \"gpt-35-turbo-deploy\""
   ]
  },
  {
   "cell_type": "markdown",
   "metadata": {
    "slideshow": {
     "slide_type": "slide"
    }
   },
   "source": [
    "Knowledge Base (```embeddings_data.csv```) から、全ドキュメントの Embedding 情報を読み込みます。<br>\n",
    "列として、```text``` (本文), ```n_tokens``` (トークン数), ```embeddings``` (ベクトルのリスト) が含まれていることを確認してください。"
   ]
  },
  {
   "cell_type": "code",
   "execution_count": 2,
   "metadata": {
    "slideshow": {
     "slide_type": "slide"
    }
   },
   "outputs": [
    {
     "data": {
      "text/html": [
       "<div>\n",
       "<style scoped>\n",
       "    .dataframe tbody tr th:only-of-type {\n",
       "        vertical-align: middle;\n",
       "    }\n",
       "\n",
       "    .dataframe tbody tr th {\n",
       "        vertical-align: top;\n",
       "    }\n",
       "\n",
       "    .dataframe thead th {\n",
       "        text-align: right;\n",
       "    }\n",
       "</style>\n",
       "<table border=\"1\" class=\"dataframe\">\n",
       "  <thead>\n",
       "    <tr style=\"text-align: right;\">\n",
       "      <th></th>\n",
       "      <th>text</th>\n",
       "      <th>n_tokens</th>\n",
       "      <th>embeddings</th>\n",
       "    </tr>\n",
       "  </thead>\n",
       "  <tbody>\n",
       "    <tr>\n",
       "      <th>0</th>\n",
       "      <td>手塚治虫(てづかおさむ、本名:手塚治(読み同じ)、1928年(昭和3年)11月3日-1989...</td>\n",
       "      <td>249</td>\n",
       "      <td>[-0.011639331467449665, -0.0028115962632000446...</td>\n",
       "    </tr>\n",
       "    <tr>\n",
       "      <th>2</th>\n",
       "      <td>大阪帝国大学附属医学専門部在学中の1946年1月1日に4コマ漫画『マアチャンの日記帳』(『少...</td>\n",
       "      <td>555</td>\n",
       "      <td>[-0.005988525692373514, -0.020313821732997894,...</td>\n",
       "    </tr>\n",
       "    <tr>\n",
       "      <th>6</th>\n",
       "      <td>1941年、大阪府立北野中学校(現在の大阪府立北野高等学校)に入学した。 時節柄軍事色が強ま...</td>\n",
       "      <td>862</td>\n",
       "      <td>[-0.0008580254507251084, -0.009806005284190178...</td>\n",
       "    </tr>\n",
       "    <tr>\n",
       "      <th>9</th>\n",
       "      <td>終戦後、学生である手塚は戦時中に描き溜めた長編の中から『幽霊男』(『メトロポリス』の原型)と...</td>\n",
       "      <td>499</td>\n",
       "      <td>[-0.012157808057963848, -0.006739071570336819,...</td>\n",
       "    </tr>\n",
       "    <tr>\n",
       "      <th>10</th>\n",
       "      <td>漫画家としてデビューする前の1945年頃、2代目桂春団治が地方での自主興行を行う際のポスター...</td>\n",
       "      <td>460</td>\n",
       "      <td>[-0.00843341276049614, -0.015178769826889038, ...</td>\n",
       "    </tr>\n",
       "  </tbody>\n",
       "</table>\n",
       "</div>"
      ],
      "text/plain": [
       "                                                 text  n_tokens  \\\n",
       "0   手塚治虫(てづかおさむ、本名:手塚治(読み同じ)、1928年(昭和3年)11月3日-1989...       249   \n",
       "2   大阪帝国大学附属医学専門部在学中の1946年1月1日に4コマ漫画『マアチャンの日記帳』(『少...       555   \n",
       "6   1941年、大阪府立北野中学校(現在の大阪府立北野高等学校)に入学した。 時節柄軍事色が強ま...       862   \n",
       "9   終戦後、学生である手塚は戦時中に描き溜めた長編の中から『幽霊男』(『メトロポリス』の原型)と...       499   \n",
       "10  漫画家としてデビューする前の1945年頃、2代目桂春団治が地方での自主興行を行う際のポスター...       460   \n",
       "\n",
       "                                           embeddings  \n",
       "0   [-0.011639331467449665, -0.0028115962632000446...  \n",
       "2   [-0.005988525692373514, -0.020313821732997894,...  \n",
       "6   [-0.0008580254507251084, -0.009806005284190178...  \n",
       "9   [-0.012157808057963848, -0.006739071570336819,...  \n",
       "10  [-0.00843341276049614, -0.015178769826889038, ...  "
      ]
     },
     "execution_count": 2,
     "metadata": {},
     "output_type": "execute_result"
    }
   ],
   "source": [
    "import pandas as pd\n",
    "import numpy as np\n",
    "\n",
    "df=pd.read_csv(\"embeddings_data.csv\", index_col=0)\n",
    "df[\"embeddings\"] = df[\"embeddings\"].apply(eval).apply(np.array)\n",
    "\n",
    "df.head()"
   ]
  },
  {
   "cell_type": "markdown",
   "metadata": {
    "slideshow": {
     "slide_type": "slide"
    }
   },
   "source": [
    "下記のヒントを参考にしながら、質問に渡すコンテキストとして、質問と近いテキストを 1800 トークンを超えない範囲で取得する処理を作成してください。\n",
    "\n",
    "ヒント\n",
    "- 質問を Embedding します (Embedding 方法は、Step 1 を参考にしてください)\n",
    "- ベクトルどうしの距離を測る関数はさまざま存在します。例えば、```openai.embeddings_utils.distances_from_embeddings``` が使用できます。(この関数の詳細は [こちら](https://github.com/openai/openai-python/blob/main/openai/embeddings_utils.py) を参照してください。)\n",
    "- 上述の通り、トークン数の情報は ```n_tokens``` 列に含まれています。"
   ]
  },
  {
   "cell_type": "code",
   "execution_count": null,
   "metadata": {},
   "outputs": [],
   "source": [
    "!pip3 install scikit-learn scipy"
   ]
  },
  {
   "cell_type": "code",
   "execution_count": 3,
   "metadata": {
    "slideshow": {
     "slide_type": "slide"
    }
   },
   "outputs": [],
   "source": [
    "from openai.embeddings_utils import distances_from_embeddings\n",
    "\n",
    "def create_context(\n",
    "    question, df, max_len=1800,\n",
    "):\n",
    "    # Get the embeddings for the question\n",
    "    q_embeddings = openai.Embedding.create(input=question, engine=embedding_model)[\"data\"][0][\"embedding\"]\n",
    "\n",
    "    # Get the distances from the embeddings\n",
    "    df[\"distances\"] = distances_from_embeddings(q_embeddings, df[\"embeddings\"].values, distance_metric=\"cosine\")\n",
    "\n",
    "    returns = []\n",
    "    cur_len = 0\n",
    "\n",
    "    # Sort by distance and add the text to the context until the context is too long\n",
    "    for i, row in df.sort_values(\"distances\", ascending=True).iterrows():\n",
    "        \n",
    "        # Add the length of the text to the current length\n",
    "        cur_len += row[\"n_tokens\"] + 4\n",
    "        \n",
    "        # If the context is too long, break\n",
    "        if cur_len > max_len:\n",
    "            break\n",
    "        \n",
    "        # Else add it to the text that is being returned\n",
    "        returns.append(row[\"text\"])\n",
    "\n",
    "    # Return the context\n",
    "    return \"\\n\\n###\\n\\n\".join(returns)"
   ]
  },
  {
   "cell_type": "code",
   "execution_count": 4,
   "metadata": {},
   "outputs": [
    {
     "data": {
      "text/plain": [
       "'大同電力が発足した第一次世界大戦後から大正末期にかけて、日本では5つの電力会社が業界内で巨大化していた。 この5社がいわゆる「五大電力」で、他の4社は関東の東京電灯、中京と九州北部の東邦電力、関西の宇治川電気、同じ卸売り会社の日本電力を指す。 電気事業の大型化の中で、大同電力は木曽川において積極的な水力開発を手がけることにより規模を拡大していった。 木曽川に建設された発電所のうち、1924年(大正13年)に完成したダム式の大井発電所は当時国内で最大の発電出力を擁した。\\n\\n###\\n\\n1917年(大正6年)に水利権許可を得ていた木曽川の「大桑第一水力」は、水路が長すぎることから実際の開発にあたっては2地点に分割することになり、下流側は「須原水力」となった。 同地点は須原発電所として大同発足直後ただちに着工され、1922年(大正11年)7月に竣工した。 須原発電所は長野県西筑摩郡大桑村に設置され、水路式発電所で出力は9,200kW。 エッシャーウイス製水車、ウェスティングハウス・エレクトリック製発電機各2台と日立製作所製変圧器を設置した。 竣工とともに大桑発電所まで77キロボルト(kV)送電線が完成、大桑発電所より名古屋市北区八龍町の六郷変電所へ至る既設送電線(同年6月全線竣工)と接続し、名古屋方面への送電を開始する。 さらに翌1923年(大正12年)12月、大阪送電幹線が完成すると須原変電所を通じ154kVに昇圧した上で大阪方面へも送電するようになった。\\n\\n###\\n\\n桃山発電所は「大桑第一水力」の一部を計画変更して開発された。 すなわち、大桑第一水力を分割して生じた2地点のうち上流側にあたる「駒ヶ根水力」を、途中に景勝地寝覚の床があることからさらに分割して生じた2地点のうちの一つである(もう一つの地点は寝覚発電所となった)。 1922年8月に着工、翌1923年12月に完成した。 西筑摩郡上松町にあり、エッシャーウイス製水車2台とウェスティングハウス製の発電機2台および変圧器を設置して2万3,100kWの出力で発電する設計であった。 桃山では、東京方面への送電を見越して、周波数を50・60ヘルツ双方に対応するよう水車・発電機が設計された。 発電所に先立って1923年11月、須原発電所までの77kV送電線が竣工した。 翌1924年(大正13年)1月には東筑摩郡広丘村郷原(現・塩尻市広丘郷原)に新設された塩尻変電所までの77kV送電線も完成し、東京電灯への電力供給を開始している。\\n\\n###\\n\\n西勝原発電所は九頭竜川(福井県)に位置し、出力7,200kW、1919年6月北陸電化(日本水力の前身)により運転開始。 賤母発電所は木曽川(長野県)に位置し、出力1万2,600kW、1919年7月木曽電気興業により運転開始。 1922年3月増設工事竣工、出力1万4,700kWに増強。 大桑発電所は木曽川(長野県)に位置し、出力1万1,000kW、建設中である(1921年8月運転開始)。 串原発電所は矢作川(岐阜県)に位置し、出力6,000kW、1920年12月木曽電気興業により運転開始。'"
      ]
     },
     "execution_count": 4,
     "metadata": {},
     "output_type": "execute_result"
    }
   ],
   "source": [
    "# 動作確認\n",
    "create_context(\n",
    "    \"木曽川に建設された発電所のうち、1924年(大正13年)に完成したダム式の発電所は?\",\n",
    "    df=df,\n",
    ")"
   ]
  },
  {
   "cell_type": "markdown",
   "metadata": {
    "slideshow": {
     "slide_type": "slide"
    }
   },
   "source": [
    "つぎに、上記で抽出した (1800 token を超えない) コンテキストを使って、下記のプロンプトを渡して completion を実行します。<br>\n",
    "返ってきた答えが、最終的な回答です。\n",
    "\n",
    "----------\n",
    "\n",
    "```\n",
    "以下のテキストを使って下記の質問に答えてください。もし答えがない場合には、「私は知らない」と答えてください。\n",
    "\n",
    "コンテキスト: {context}\n",
    "\n",
    "---\n",
    "\n",
    "質問: {question}\n",
    "答え:\n",
    "```"
   ]
  },
  {
   "cell_type": "code",
   "execution_count": 5,
   "metadata": {
    "slideshow": {
     "slide_type": "slide"
    }
   },
   "outputs": [],
   "source": [
    "def answer_question(\n",
    "    df,\n",
    "    model,\n",
    "    question,\n",
    "    max_len=1800,\n",
    "    max_tokens=150,\n",
    "    stop_sequence=None\n",
    "):\n",
    "    context = create_context(\n",
    "        question,\n",
    "        df,\n",
    "        max_len=max_len,\n",
    "    )\n",
    "    # Create a completions using the question and context\n",
    "    response = openai.ChatCompletion.create(\n",
    "        engine=qa_model,\n",
    "        temperature=0,\n",
    "        max_tokens=max_tokens,\n",
    "        top_p=1,\n",
    "        frequency_penalty=0,\n",
    "        presence_penalty=0,\n",
    "        stop=stop_sequence,\n",
    "        messages=[\n",
    "            {\"role\": \"system\", \"content\": \"OpenAI で学習された大規模言語モデルです。可能な限り日本語で答えてください。\"},\n",
    "            {\"role\": \"user\", \"content\": f\"以下のテキストを使って下記の質問に答えてください。もし答えがない場合には、「私は知らない」と答えてください。\\n\\nコンテキスト: {context}\\n\\n---\\n\\n質問: {question}\\n答え:\"}\n",
    "        ]\n",
    "    )    \n",
    "    return response[\"choices\"][0][\"message\"][\"content\"].strip()"
   ]
  },
  {
   "cell_type": "markdown",
   "metadata": {
    "slideshow": {
     "slide_type": "slide"
    }
   },
   "source": [
    "下記の質問で試してみてください。<br>\n",
    "これらの質問は、標準の ChatGPT (```gpt-35-turbo```) では答えられない内容です。\n",
    "\n",
    "1. 「木曽川に建設された発電所のうち、1924年(大正13年)に完成したダム式の発電所は?」 (答え : 大井発電所)\n",
    "2. 「1948年に、占領軍総司令部民間情報局が静岡に設立したのは?」 (答え : アメリカ文化センター)\n",
    "3. 「今日は何曜日?」 (答え : 私は知らない)"
   ]
  },
  {
   "cell_type": "code",
   "execution_count": 6,
   "metadata": {
    "slideshow": {
     "slide_type": "slide"
    }
   },
   "outputs": [
    {
     "data": {
      "text/plain": [
       "'1924年に完成したダム式の発電所は大井発電所です。'"
      ]
     },
     "execution_count": 6,
     "metadata": {},
     "output_type": "execute_result"
    }
   ],
   "source": [
    "answer_question(df, question=\"木曽川に建設された発電所のうち、1924年(大正13年)に完成したダム式の発電所は?\", model=qa_model)"
   ]
  },
  {
   "cell_type": "code",
   "execution_count": 7,
   "metadata": {
    "slideshow": {
     "slide_type": "slide"
    }
   },
   "outputs": [
    {
     "data": {
      "text/plain": [
       "'占領軍総司令部民間情報局が静岡に設立したのは、静岡CIE図書館（のちにアメリカ文化センターと改称）です。'"
      ]
     },
     "execution_count": 7,
     "metadata": {},
     "output_type": "execute_result"
    }
   ],
   "source": [
    "answer_question(df, question=\"1948年に、占領軍総司令部民間情報局が静岡に設立したのは?\", model=qa_model)"
   ]
  },
  {
   "cell_type": "code",
   "execution_count": 8,
   "metadata": {
    "slideshow": {
     "slide_type": "slide"
    }
   },
   "outputs": [
    {
     "data": {
      "text/plain": [
       "'私は知りません。コンテキストには日付や曜日に関する情報がありません。'"
      ]
     },
     "execution_count": 8,
     "metadata": {},
     "output_type": "execute_result"
    }
   ],
   "source": [
    "answer_question(df, question=\"今日は何曜日\", model=qa_model)"
   ]
  },
  {
   "cell_type": "code",
   "execution_count": null,
   "metadata": {},
   "outputs": [],
   "source": []
  }
 ],
 "metadata": {
  "celltoolbar": "Slideshow",
  "kernelspec": {
   "display_name": "Python 3 (ipykernel)",
   "language": "python",
   "name": "python3"
  },
  "language_info": {
   "codemirror_mode": {
    "name": "ipython",
    "version": 3
   },
   "file_extension": ".py",
   "mimetype": "text/x-python",
   "name": "python",
   "nbconvert_exporter": "python",
   "pygments_lexer": "ipython3",
   "version": "3.8.10"
  },
  "vscode": {
   "interpreter": {
    "hash": "05f34a34d73b71652304030c1097be3a5720ea2447153dd6542d145a26b73181"
   }
  }
 },
 "nbformat": 4,
 "nbformat_minor": 4
}
